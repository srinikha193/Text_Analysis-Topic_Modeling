{
  "nbformat": 4,
  "nbformat_minor": 0,
  "metadata": {
    "colab": {
      "provenance": [],
      "authorship_tag": "ABX9TyOmDkGhY/ZG5PDDOHaTC7z8",
      "include_colab_link": true
    },
    "kernelspec": {
      "name": "python3",
      "display_name": "Python 3"
    },
    "language_info": {
      "name": "python"
    }
  },
  "cells": [
    {
      "cell_type": "markdown",
      "metadata": {
        "id": "view-in-github",
        "colab_type": "text"
      },
      "source": [
        "<a href=\"https://colab.research.google.com/github/srinikha193/Text_Analysis-Topic_Modeling/blob/main/Data%20Annotations.ipynb\" target=\"_parent\"><img src=\"https://colab.research.google.com/assets/colab-badge.svg\" alt=\"Open In Colab\"/></a>"
      ]
    },
    {
      "cell_type": "code",
      "execution_count": null,
      "metadata": {
        "id": "eHnh0s_lYTfL"
      },
      "outputs": [],
      "source": [
        " Install required libraries\n",
        "!pip install transformers pandas torch\n",
        "\n",
        "# Import necessary libraries\n",
        "import pandas as pd\n",
        "import torch\n",
        "from transformers import pipeline\n",
        "\n",
        "# Check for GPU availability\n",
        "device = torch.device(\"cuda\" if torch.cuda.is_available() else \"cpu\")\n",
        "print(\"Using device:\", device)\n",
        "\n",
        "# Step 1: Load the dataset\n",
        "dataset_path = \"C:/Users/mohit/Downloads/combined_cleaned.csv\"  # Update path if required\n",
        "df = pd.read_csv(dataset_path)\n",
        "\n",
        "# Verify the dataset\n",
        "if \"text\" not in df.columns:\n",
        "    raise ValueError(\"The dataset must contain a 'text' column with tweets.\")\n",
        "\n",
        "# Step 2: Define your list of topics\n",
        "topics = [\"sports/health/disabilities\", \"gender\", \"education\", \"livelihood\", \"social cohesion\", \"other\"]\n",
        "\n",
        "# Step 3: Load the zero-shot classification pipeline\n",
        "classifier = pipeline(\"zero-shot-classification\", model=\"facebook/bart-large-mnli\", device=0 if torch.cuda.is_available() else -1)\n",
        "\n",
        "# Step 4: Classify each tweet\n",
        "def classify_tweet(text):\n",
        "    try:\n",
        "        result = classifier(text, topics)\n",
        "        return result[\"labels\"][0]  # Return the topic with the highest score\n",
        "    except Exception as e:\n",
        "        print(f\"Error classifying text: {text[:50]}... - {e}\")\n",
        "        return \"other\"  # Default to \"other\" if classification fails\n",
        "\n",
        "# Apply classification to the dataset\n",
        "print(\"Classifying tweets...\")\n",
        "df[\"predicted_topic\"] = df[\"text\"].apply(classify_tweet)\n",
        "\n",
        "# Step 5: Save the updated dataset\n",
        "output_path = \"C:/Users/mohit/Downloads/finaloutput.csv\"\n",
        "df.to_csv(output_path, index=False)\n",
        "print(f\"Updated dataset saved to {output_path}\")"
      ]
    }
  ]
}